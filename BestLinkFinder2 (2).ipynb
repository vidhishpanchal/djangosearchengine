{
  "nbformat": 4,
  "nbformat_minor": 0,
  "metadata": {
    "colab": {
      "name": "BestLinkFinder2.ipynb",
      "provenance": [],
      "collapsed_sections": []
    },
    "kernelspec": {
      "name": "python3",
      "display_name": "Python 3"
    },
    "language_info": {
      "name": "python"
    }
  },
  "cells": [
    {
      "cell_type": "code",
      "execution_count": null,
      "metadata": {
        "id": "kTT14QS0Em4R"
      },
      "outputs": [],
      "source": [
        "import numpy as np\n",
        "import pandas as pd\n",
        "import matplotlib.pyplot as plt\n",
        "import seaborn as sns "
      ]
    },
    {
      "cell_type": "code",
      "source": [
        "df = pd.read_csv('new_file.csv', encoding='cp1252')\n",
        "df.head(10)"
      ],
      "metadata": {
        "colab": {
          "base_uri": "https://localhost:8080/",
          "height": 363
        },
        "id": "_tsUY4LbEs-d",
        "outputId": "fed4896d-bb99-4c54-bbb6-f7fa947e63b6"
      },
      "execution_count": null,
      "outputs": [
        {
          "output_type": "execute_result",
          "data": {
            "text/html": [
              "<div>\n",
              "<style scoped>\n",
              "    .dataframe tbody tr th:only-of-type {\n",
              "        vertical-align: middle;\n",
              "    }\n",
              "\n",
              "    .dataframe tbody tr th {\n",
              "        vertical-align: top;\n",
              "    }\n",
              "\n",
              "    .dataframe thead th {\n",
              "        text-align: right;\n",
              "    }\n",
              "</style>\n",
              "<table border=\"1\" class=\"dataframe\">\n",
              "  <thead>\n",
              "    <tr style=\"text-align: right;\">\n",
              "      <th></th>\n",
              "      <th>Title</th>\n",
              "      <th>Link</th>\n",
              "      <th>Description</th>\n",
              "    </tr>\n",
              "  </thead>\n",
              "  <tbody>\n",
              "    <tr>\n",
              "      <th>0</th>\n",
              "      <td>NaN</td>\n",
              "      <td>NaN</td>\n",
              "      <td>NaN</td>\n",
              "    </tr>\n",
              "    <tr>\n",
              "      <th>1</th>\n",
              "      <td>\\r\\nHow to Find Forex Historical Data\\r\\n</td>\n",
              "      <td>https://www.askmoney.com/investing/how-find-fo...</td>\n",
              "      <td>Interested in the forex currency trade? Learni...</td>\n",
              "    </tr>\n",
              "    <tr>\n",
              "      <th>2</th>\n",
              "      <td>NaN</td>\n",
              "      <td>NaN</td>\n",
              "      <td>NaN</td>\n",
              "    </tr>\n",
              "    <tr>\n",
              "      <th>3</th>\n",
              "      <td>\\r\\nWhat Is the Definition of Data Inconsisten...</td>\n",
              "      <td>https://www.reference.com/world-view/definitio...</td>\n",
              "      <td>Data inconsistency occurs when similar data is...</td>\n",
              "    </tr>\n",
              "    <tr>\n",
              "      <th>4</th>\n",
              "      <td>NaN</td>\n",
              "      <td>NaN</td>\n",
              "      <td>NaN</td>\n",
              "    </tr>\n",
              "    <tr>\n",
              "      <th>5</th>\n",
              "      <td>\\r\\nWhat Does AncestryDNA Do With My Data?\\r\\n</td>\n",
              "      <td>https://www.questionsanswered.net/tech/what-an...</td>\n",
              "      <td>What Does AncestryDNA Do With My Data? DNA tes...</td>\n",
              "    </tr>\n",
              "    <tr>\n",
              "      <th>6</th>\n",
              "      <td>NaN</td>\n",
              "      <td>NaN</td>\n",
              "      <td>NaN</td>\n",
              "    </tr>\n",
              "    <tr>\n",
              "      <th>7</th>\n",
              "      <td>\\r\\nHow Do Researchers Collect Data?\\r\\n</td>\n",
              "      <td>https://www.questionsanswered.net/article/how-...</td>\n",
              "      <td>There are various ways for researchers to coll...</td>\n",
              "    </tr>\n",
              "    <tr>\n",
              "      <th>8</th>\n",
              "      <td>NaN</td>\n",
              "      <td>NaN</td>\n",
              "      <td>NaN</td>\n",
              "    </tr>\n",
              "    <tr>\n",
              "      <th>9</th>\n",
              "      <td>\\r\\nThe Beginner’s Guide to Data Analysis\\r\\n</td>\n",
              "      <td>https://www.questionsanswered.net/article/the-...</td>\n",
              "      <td>Data analysis seems abstract and complicated, ...</td>\n",
              "    </tr>\n",
              "  </tbody>\n",
              "</table>\n",
              "</div>"
            ],
            "text/plain": [
              "                                               Title  ...                                        Description\n",
              "0                                                NaN  ...                                                NaN\n",
              "1          \\r\\nHow to Find Forex Historical Data\\r\\n  ...  Interested in the forex currency trade? Learni...\n",
              "2                                                NaN  ...                                                NaN\n",
              "3  \\r\\nWhat Is the Definition of Data Inconsisten...  ...  Data inconsistency occurs when similar data is...\n",
              "4                                                NaN  ...                                                NaN\n",
              "5     \\r\\nWhat Does AncestryDNA Do With My Data?\\r\\n  ...  What Does AncestryDNA Do With My Data? DNA tes...\n",
              "6                                                NaN  ...                                                NaN\n",
              "7           \\r\\nHow Do Researchers Collect Data?\\r\\n  ...  There are various ways for researchers to coll...\n",
              "8                                                NaN  ...                                                NaN\n",
              "9      \\r\\nThe Beginner’s Guide to Data Analysis\\r\\n  ...  Data analysis seems abstract and complicated, ...\n",
              "\n",
              "[10 rows x 3 columns]"
            ]
          },
          "metadata": {},
          "execution_count": 3
        }
      ]
    },
    {
      "cell_type": "code",
      "source": [
        "df.isnull().sum()"
      ],
      "metadata": {
        "colab": {
          "base_uri": "https://localhost:8080/"
        },
        "id": "NQkhB4RfExpw",
        "outputId": "81d39511-6761-4718-d56b-c1f0f0d071c6"
      },
      "execution_count": null,
      "outputs": [
        {
          "output_type": "execute_result",
          "data": {
            "text/plain": [
              "Title          11\n",
              "Link           11\n",
              "Description    11\n",
              "dtype: int64"
            ]
          },
          "metadata": {},
          "execution_count": 4
        }
      ]
    },
    {
      "cell_type": "code",
      "source": [
        "df = df.loc[1:21:2 , :]\n",
        "df"
      ],
      "metadata": {
        "colab": {
          "base_uri": "https://localhost:8080/",
          "height": 394
        },
        "id": "KaVLJOuYE4wo",
        "outputId": "3a2fa4a7-9f8a-4ae5-99e3-d0ed785c4d1d"
      },
      "execution_count": null,
      "outputs": [
        {
          "output_type": "execute_result",
          "data": {
            "text/html": [
              "<div>\n",
              "<style scoped>\n",
              "    .dataframe tbody tr th:only-of-type {\n",
              "        vertical-align: middle;\n",
              "    }\n",
              "\n",
              "    .dataframe tbody tr th {\n",
              "        vertical-align: top;\n",
              "    }\n",
              "\n",
              "    .dataframe thead th {\n",
              "        text-align: right;\n",
              "    }\n",
              "</style>\n",
              "<table border=\"1\" class=\"dataframe\">\n",
              "  <thead>\n",
              "    <tr style=\"text-align: right;\">\n",
              "      <th></th>\n",
              "      <th>Title</th>\n",
              "      <th>Link</th>\n",
              "      <th>Description</th>\n",
              "    </tr>\n",
              "  </thead>\n",
              "  <tbody>\n",
              "    <tr>\n",
              "      <th>1</th>\n",
              "      <td>\\r\\nHow to Find Forex Historical Data\\r\\n</td>\n",
              "      <td>https://www.askmoney.com/investing/how-find-fo...</td>\n",
              "      <td>Interested in the forex currency trade? Learni...</td>\n",
              "    </tr>\n",
              "    <tr>\n",
              "      <th>3</th>\n",
              "      <td>\\r\\nWhat Is the Definition of Data Inconsisten...</td>\n",
              "      <td>https://www.reference.com/world-view/definitio...</td>\n",
              "      <td>Data inconsistency occurs when similar data is...</td>\n",
              "    </tr>\n",
              "    <tr>\n",
              "      <th>5</th>\n",
              "      <td>\\r\\nWhat Does AncestryDNA Do With My Data?\\r\\n</td>\n",
              "      <td>https://www.questionsanswered.net/tech/what-an...</td>\n",
              "      <td>What Does AncestryDNA Do With My Data? DNA tes...</td>\n",
              "    </tr>\n",
              "    <tr>\n",
              "      <th>7</th>\n",
              "      <td>\\r\\nHow Do Researchers Collect Data?\\r\\n</td>\n",
              "      <td>https://www.questionsanswered.net/article/how-...</td>\n",
              "      <td>There are various ways for researchers to coll...</td>\n",
              "    </tr>\n",
              "    <tr>\n",
              "      <th>9</th>\n",
              "      <td>\\r\\nThe Beginner’s Guide to Data Analysis\\r\\n</td>\n",
              "      <td>https://www.questionsanswered.net/article/the-...</td>\n",
              "      <td>Data analysis seems abstract and complicated, ...</td>\n",
              "    </tr>\n",
              "    <tr>\n",
              "      <th>11</th>\n",
              "      <td>\\r\\nWhat Is First Data Merchant Services?\\r\\n</td>\n",
              "      <td>https://www.questionsanswered.net/article/what...</td>\n",
              "      <td>First Data provides services to small business...</td>\n",
              "    </tr>\n",
              "    <tr>\n",
              "      <th>13</th>\n",
              "      <td>\\r\\n5 Sources of Historial Weather Data\\r\\n</td>\n",
              "      <td>https://www.questionsanswered.net/article/5-so...</td>\n",
              "      <td>Most of the time when you think about the weat...</td>\n",
              "    </tr>\n",
              "    <tr>\n",
              "      <th>15</th>\n",
              "      <td>\\r\\nImplementation of Data Structures | edX\\r\\n</td>\n",
              "      <td>https://www.edx.org/course/implementation-of-d...</td>\n",
              "      <td>Learn how to write correct and efficient data ...</td>\n",
              "    </tr>\n",
              "    <tr>\n",
              "      <th>17</th>\n",
              "      <td>\\r\\nIntroduction to Data Structures | edX\\r\\n</td>\n",
              "      <td>https://www.edx.org/course/c-introduction-to-d...</td>\n",
              "      <td>Learn the advanced programming topics in the C...</td>\n",
              "    </tr>\n",
              "    <tr>\n",
              "      <th>19</th>\n",
              "      <td>\\r\\nData Structures Fundamentals | edX\\r\\n</td>\n",
              "      <td>https://www.edx.org/course/data-structures-fun...</td>\n",
              "      <td>Learn about data structures that are used in c...</td>\n",
              "    </tr>\n",
              "    <tr>\n",
              "      <th>21</th>\n",
              "      <td>\\r\\nObjects vs. Data Structures | Hacker Noon\\r\\n</td>\n",
              "      <td>https://hackernoon.com/objects-vs-data-structu...</td>\n",
              "      <td>Editor In the world of Java development, there...</td>\n",
              "    </tr>\n",
              "  </tbody>\n",
              "</table>\n",
              "</div>"
            ],
            "text/plain": [
              "                                                Title  ...                                        Description\n",
              "1           \\r\\nHow to Find Forex Historical Data\\r\\n  ...  Interested in the forex currency trade? Learni...\n",
              "3   \\r\\nWhat Is the Definition of Data Inconsisten...  ...  Data inconsistency occurs when similar data is...\n",
              "5      \\r\\nWhat Does AncestryDNA Do With My Data?\\r\\n  ...  What Does AncestryDNA Do With My Data? DNA tes...\n",
              "7            \\r\\nHow Do Researchers Collect Data?\\r\\n  ...  There are various ways for researchers to coll...\n",
              "9       \\r\\nThe Beginner’s Guide to Data Analysis\\r\\n  ...  Data analysis seems abstract and complicated, ...\n",
              "11      \\r\\nWhat Is First Data Merchant Services?\\r\\n  ...  First Data provides services to small business...\n",
              "13        \\r\\n5 Sources of Historial Weather Data\\r\\n  ...  Most of the time when you think about the weat...\n",
              "15    \\r\\nImplementation of Data Structures | edX\\r\\n  ...  Learn how to write correct and efficient data ...\n",
              "17      \\r\\nIntroduction to Data Structures | edX\\r\\n  ...  Learn the advanced programming topics in the C...\n",
              "19         \\r\\nData Structures Fundamentals | edX\\r\\n  ...  Learn about data structures that are used in c...\n",
              "21  \\r\\nObjects vs. Data Structures | Hacker Noon\\r\\n  ...  Editor In the world of Java development, there...\n",
              "\n",
              "[11 rows x 3 columns]"
            ]
          },
          "metadata": {},
          "execution_count": 5
        }
      ]
    },
    {
      "cell_type": "code",
      "source": [
        "df['Description'][1]"
      ],
      "metadata": {
        "colab": {
          "base_uri": "https://localhost:8080/",
          "height": 54
        },
        "id": "OjzXWoySE7Gl",
        "outputId": "69ea5e50-69a5-45fd-d6fb-487685aa4560"
      },
      "execution_count": null,
      "outputs": [
        {
          "output_type": "execute_result",
          "data": {
            "application/vnd.google.colaboratory.intrinsic+json": {
              "type": "string"
            },
            "text/plain": [
              "'Interested in the forex currency trade? Learning historical currency value data can be useful, but there’s a lot more to know than just that information alone. This guide can help you get on the right track to smart investment in the foreig...'"
            ]
          },
          "metadata": {},
          "execution_count": 6
        }
      ]
    },
    {
      "cell_type": "code",
      "source": [
        "import spacy\n",
        "from collections import Counter\n",
        "from string import punctuation\n",
        "nlp = spacy.load(\"en_core_web_sm\")\n",
        "# import en_core_web_lg\n",
        "# nlp = en_core_web_lg.load()\n",
        "# function to get hotwords\n",
        "def get_hotwords(text):\n",
        "    result = []\n",
        "    pos_tag = ['PROPN', 'ADJ', 'NOUN'] # 1\n",
        "    doc = nlp(text.lower()) # 2\n",
        "    for token in doc:\n",
        "        # 3\n",
        "        if(token.text in nlp.Defaults.stop_words or token.text in punctuation):\n",
        "            continue\n",
        "        # 4\n",
        "        if(token.pos_ in pos_tag):\n",
        "            result.append(token.text)\n",
        "                \n",
        "    return result # 5\n",
        "text = df['Description'][1]\n",
        "output = get_hotwords(text)\n",
        "print(output)"
      ],
      "metadata": {
        "colab": {
          "base_uri": "https://localhost:8080/"
        },
        "id": "e5SK_CRnE9gb",
        "outputId": "b76d00ee-75c3-48a6-9daa-8bd66acfc1e1"
      },
      "execution_count": null,
      "outputs": [
        {
          "output_type": "stream",
          "name": "stdout",
          "text": [
            "['interested', 'forex', 'currency', 'trade', 'historical', 'currency', 'value', 'data', 'useful', 'lot', 'information', 'guide', 'right', 'track', 'smart', 'investment', 'foreig']\n"
          ]
        }
      ]
    },
    {
      "cell_type": "code",
      "source": [
        "array_of_keywords = []\n",
        "for i in range(1, 21):\n",
        "  if(i%2!=0):\n",
        "    arr = get_hotwords(df[\"Description\"][i])\n",
        "    array_of_keywords.append(arr)\n",
        "  else:\n",
        "    continue\n",
        "print(len(array_of_keywords))\n",
        "print(array_of_keywords)"
      ],
      "metadata": {
        "colab": {
          "base_uri": "https://localhost:8080/"
        },
        "id": "KZ909UyjFB10",
        "outputId": "91431146-2716-4e90-e291-94d8cf542d11"
      },
      "execution_count": null,
      "outputs": [
        {
          "output_type": "stream",
          "name": "stdout",
          "text": [
            "10\n",
            "[['interested', 'forex', 'currency', 'trade', 'historical', 'currency', 'value', 'data', 'useful', 'lot', 'information', 'guide', 'right', 'track', 'smart', 'investment', 'foreig'], ['data', 'inconsistency', 'similar', 'data', 'different', 'formats', 'file', 'important', 'data', 'files', 'files', 'data', 'information', 'names', 'addres'], ['ancestrydna', 'data', 'dna', 'tests', 'popular', 'way', 'people', 'genealogy', 'family', 'history', 'ancestrydna', 'popular', 'test', 'kits'], ['ways', 'researchers', 'data', 'important', 'data', 'credible', 'sources', 'validity', 'research', 'researchers', 'collecti'], ['data', 'analysis', 'abstract', 'complicated', 'answers', 'real', 'world', 'problems', 'businesses', 'qualitative', 'factors', 'data', 'analysis', 'businesses', 'action', 'plans', 'marketing', 'sales', 'decisio'], ['data', 'services', 'small', 'businesses', 'large', 'merchants', 'international', 'institutions', 'merchant', 'services', 'data', 'business', 'monetary', 'needs', 'pos', 'systems', 'payment', 'processing', 'solutions', 'm'], ['time', 'weather', 'current', 'conditions', 'forecasts', 'hardcore', 'weather', 'buff', 'curious', 'historical', 'weather', 'data', 'weather', 'day'], ['correct', 'efficient', 'data', 'structures', 'manipulation', 'standard', 'template', 'library', 'stl', 'c++', 'power', 'stl', 'code', 'solid', 'reusable', 'robust', 'correct'], ['advanced', 'programming', 'topics', 'c++', 'programming', 'language', 'pointers', 'dynamic', 'storage', 'recursion', 'advanced', 'programming', 'topics', 'c++', 'programming', 'language', 'pointers', 'dynami'], ['data', 'structures', 'computational', 'thinking', 'basic', 'advanced', 'good', 'algorithm', 'set', 'good', 'data', 'structures', 'algorithm', 'data', 'c']]\n"
          ]
        }
      ]
    },
    {
      "cell_type": "code",
      "source": [
        "array_of_keywords[1]"
      ],
      "metadata": {
        "colab": {
          "base_uri": "https://localhost:8080/"
        },
        "id": "lKFcC1JhFGYD",
        "outputId": "66bbe07c-1d1f-46cc-c342-89ace733ac07"
      },
      "execution_count": null,
      "outputs": [
        {
          "output_type": "execute_result",
          "data": {
            "text/plain": [
              "['data',\n",
              " 'inconsistency',\n",
              " 'similar',\n",
              " 'data',\n",
              " 'different',\n",
              " 'formats',\n",
              " 'file',\n",
              " 'important',\n",
              " 'data',\n",
              " 'files',\n",
              " 'files',\n",
              " 'data',\n",
              " 'information',\n",
              " 'names',\n",
              " 'addres']"
            ]
          },
          "metadata": {},
          "execution_count": 9
        }
      ]
    },
    {
      "cell_type": "code",
      "source": [
        "no_of_times_data_occurs = []\n",
        "searchedword = 'data'\n",
        "for item in array_of_keywords:\n",
        "  num = 0\n",
        "  for word in item:\n",
        "    if(word==searchedword):\n",
        "      num+=1\n",
        "  no_of_times_data_occurs.append(num)\n",
        "print(no_of_times_data_occurs)"
      ],
      "metadata": {
        "colab": {
          "base_uri": "https://localhost:8080/"
        },
        "id": "Dd-xMhPiFJFy",
        "outputId": "cf3056f1-3997-482e-8401-69f477230fbc"
      },
      "execution_count": null,
      "outputs": [
        {
          "output_type": "stream",
          "name": "stdout",
          "text": [
            "[1, 4, 1, 2, 2, 2, 1, 1, 0, 3]\n"
          ]
        }
      ]
    },
    {
      "cell_type": "code",
      "source": [
        "def maximum(a, n):\n",
        "  \n",
        "    # inbuilt function to find the position of minimum \n",
        "    minpos = a.index(min(a))\n",
        "      \n",
        "    # inbuilt function to find the position of maximum \n",
        "    maxpos = a.index(max(a)) \n",
        "      \n",
        "    # printing the position \n",
        "    print(\"The maximum is at position\", maxpos) \n",
        "    print(\"The minimum is at position\", minpos)\n",
        "a = no_of_times_data_occurs\n",
        "maximum(a, len(a)) "
      ],
      "metadata": {
        "colab": {
          "base_uri": "https://localhost:8080/"
        },
        "id": "cMg_BDarFMTo",
        "outputId": "e9058c7e-ad5b-4926-96e0-dfcd739acb2f"
      },
      "execution_count": null,
      "outputs": [
        {
          "output_type": "stream",
          "name": "stdout",
          "text": [
            "The maximum is at position 1\n",
            "The minimum is at position 8\n"
          ]
        }
      ]
    },
    {
      "cell_type": "code",
      "source": [
        "b = [1, 1, 2, 4, 2, 2, 1, 4, 1, 0, 3]\n",
        "maximum(b, len(b)) "
      ],
      "metadata": {
        "colab": {
          "base_uri": "https://localhost:8080/"
        },
        "id": "JWbGdlo6FSdn",
        "outputId": "a39ca236-00e3-4dba-864d-6d0520650fad"
      },
      "execution_count": null,
      "outputs": [
        {
          "output_type": "stream",
          "name": "stdout",
          "text": [
            "The maximum is at position 3\n",
            "The minimum is at position 9\n"
          ]
        }
      ]
    },
    {
      "cell_type": "code",
      "source": [
        "max_value_index = no_of_times_data_occurs.index(max(no_of_times_data_occurs))\n",
        "max_value_index"
      ],
      "metadata": {
        "colab": {
          "base_uri": "https://localhost:8080/"
        },
        "id": "3d-XTIgWGOya",
        "outputId": "76d794e2-5576-4434-d91d-d84863f97ecd"
      },
      "execution_count": null,
      "outputs": [
        {
          "output_type": "execute_result",
          "data": {
            "text/plain": [
              "1"
            ]
          },
          "metadata": {},
          "execution_count": 19
        }
      ]
    },
    {
      "cell_type": "code",
      "source": [
        "csv_index = (max_value_index*2)+1\n",
        "display_title = df['Title'][csv_index]\n",
        "display_link = df['Link'][csv_index]\n",
        "display_desc = df['Description'][csv_index]\n",
        "print(f'Title : {display_title}, Link : {display_link}, Description: {display_desc}')"
      ],
      "metadata": {
        "colab": {
          "base_uri": "https://localhost:8080/"
        },
        "id": "T8-8W_NoHq1x",
        "outputId": "0ffd523d-0313-40e5-d30c-dd8cbb09424d"
      },
      "execution_count": null,
      "outputs": [
        {
          "output_type": "stream",
          "name": "stdout",
          "text": [
            "Title : \r\n",
            "What Is the Definition of Data Inconsistency?\r\n",
            ", Link : https://www.reference.com/world-view/definition-data-inconsistency-5bc80c9fd30c5f1a?utm_content=params%3Ao%3D740005%26ad%3DdirN%26qo%3DserpIndex, Description: Data inconsistency occurs when similar data is kept in different formats in more than one file. When this happens, it is important to match the data between files. Sometimes, files duplicate some data. When information like names and addres...\n"
          ]
        }
      ]
    },
    {
      "cell_type": "code",
      "source": [
        ""
      ],
      "metadata": {
        "id": "HPKG9EClKmwf"
      },
      "execution_count": null,
      "outputs": []
    }
  ]
}